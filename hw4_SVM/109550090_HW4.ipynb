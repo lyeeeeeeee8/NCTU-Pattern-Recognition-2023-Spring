{
 "cells": [
  {
   "cell_type": "code",
   "execution_count": 2,
   "metadata": {
    "id": "Z0yGksgOp91i"
   },
   "outputs": [],
   "source": [
    "import numpy as np\n",
    "import pandas as pd\n",
    "import random\n",
    "import matplotlib.pyplot as plt\n",
    "import matplotlib\n",
    "from sklearn.svm import SVC, SVR\n",
    "from sklearn.metrics import accuracy_score"
   ]
  },
  {
   "cell_type": "code",
   "execution_count": 3,
   "metadata": {
    "id": "7ZYQFbA0qMZ-"
   },
   "outputs": [
    {
     "name": "stdout",
     "output_type": "stream",
     "text": [
      "(7000, 300)\n",
      "(7000,)\n",
      "(3000, 300)\n",
      "(3000,)\n",
      "[0 1]\n"
     ]
    }
   ],
   "source": [
    "# Load data\n",
    "x_train = np.load(\"dataset/x_train.npy\")\n",
    "y_train = np.load(\"dataset/y_train.npy\")\n",
    "x_test = np.load(\"dataset/x_test.npy\")\n",
    "y_test = np.load(\"dataset/y_test.npy\")\n",
    "\n",
    "# 7000 data with 300 features\n",
    "print(x_train.shape)\n",
    "print(y_train.shape)\n",
    "print(x_test.shape)\n",
    "print(y_test.shape)\n",
    "\n",
    "# It's a binary classification problem \n",
    "print(np.unique(y_train))"
   ]
  },
  {
   "attachments": {},
   "cell_type": "markdown",
   "metadata": {
    "id": "qy1aMJ7sqwwg"
   },
   "source": [
    "# Q1"
   ]
  },
  {
   "cell_type": "code",
   "execution_count": 3,
   "metadata": {
    "id": "TI26_jRbqVX3"
   },
   "outputs": [],
   "source": [
    "def cross_validation(x_train, y_train, k=5):\n",
    "    num_total = len(x_train)\n",
    "    num_fold = int(num_total / k)\n",
    "    num_remainder = num_total % k\n",
    "    numList = [num_fold for i in range(k)]\n",
    "    for i in range(num_remainder):\n",
    "        numList[i] += 1\n",
    "    \n",
    "    indexList = []\n",
    "    index = [i for i in range(num_total)]\n",
    "    for i in range(k):\n",
    "        fold_index = random.sample(index, numList[i])\n",
    "        indexList.append(fold_index)\n",
    "        index = list(set(index) - set(fold_index))\n",
    "    \n",
    "    fold_data = []\n",
    "    index = [i for i in range(num_total)]\n",
    "    for i in range(k):\n",
    "        val_index = indexList[i]\n",
    "        train_index = list(set(index) - set(val_index))\n",
    "        val_index = np.array(val_index)\n",
    "        train_index = np.array(train_index)\n",
    "        fold_data.append([train_index, val_index])\n",
    "\n",
    "    return fold_data"
   ]
  },
  {
   "cell_type": "code",
   "execution_count": 4,
   "metadata": {
    "id": "7jTma6saqf3E"
   },
   "outputs": [],
   "source": [
    "kfold_data = cross_validation(x_train, y_train, k=10)\n",
    "\n",
    "assert len(kfold_data) == 10            # should contain 10 fold of data\n",
    "assert len(kfold_data[0]) == 2          # each element should contain train fold and validation fold\n",
    "assert kfold_data[0][1].shape[0] == 700 # The number of data in each validation fold should equal to training data divieded by K"
   ]
  },
  {
   "attachments": {},
   "cell_type": "markdown",
   "metadata": {
    "id": "IccJcpN_q0Z0"
   },
   "source": [
    "# K-Fold Example"
   ]
  },
  {
   "cell_type": "code",
   "execution_count": 5,
   "metadata": {
    "id": "O_zT2TAzqjay"
   },
   "outputs": [
    {
     "name": "stdout",
     "output_type": "stream",
     "text": [
      "Split: 1, Training index: [ 0  1  2  3  4  7  8  9 10 11 12 13 14 15 16 18], Validation index: [ 5  6 17 19]\n",
      "Split: 2, Training index: [ 0  2  3  4  5  6  8  9 10 12 13 15 16 17 18 19], Validation index: [ 1  7 11 14]\n",
      "Split: 3, Training index: [ 0  1  2  5  6  7  8  9 10 11 12 14 16 17 18 19], Validation index: [ 3  4 13 15]\n",
      "Split: 4, Training index: [ 0  1  3  4  5  6  7  9 10 11 12 13 14 15 17 19], Validation index: [ 2  8 16 18]\n",
      "Split: 5, Training index: [ 1  2  3  4  5  6  7  8 11 13 14 15 16 17 18 19], Validation index: [ 0  9 10 12]\n"
     ]
    }
   ],
   "source": [
    "from sklearn.model_selection import KFold\n",
    "\n",
    "X = np.arange(20)\n",
    "\n",
    "kf = KFold(n_splits=5, shuffle=True)\n",
    "kfold_data= []\n",
    "for i, (train_index, val_index) in enumerate(kf.split(X)):\n",
    "    print(\"Split: %s, Training index: %s, Validation index: %s\" % (i+1, train_index, val_index))\n",
    "    kfold_data.append([train_index, val_index])"
   ]
  },
  {
   "cell_type": "code",
   "execution_count": 6,
   "metadata": {
    "id": "lYCTmie5qnow"
   },
   "outputs": [],
   "source": [
    "assert len(kfold_data) == 5            # should contain 5 fold of data\n",
    "assert len(kfold_data[0]) == 2         # each element should contains index of training fold and validation fold\n",
    "assert kfold_data[0][1].shape[0] == 4  # The number of data in each validation fold should equal to training data divieded by K"
   ]
  },
  {
   "attachments": {},
   "cell_type": "markdown",
   "metadata": {
    "id": "Gh-DQiNiq5v0"
   },
   "source": [
    "## Q2"
   ]
  },
  {
   "cell_type": "code",
   "execution_count": 7,
   "metadata": {
    "id": "31V1fW7Qq6la"
   },
   "outputs": [],
   "source": [
    "# (Example) Using SVC from sklearn\n",
    "clf = SVC(C=1.0, gamma=0.01, kernel='rbf')"
   ]
  },
  {
   "cell_type": "code",
   "execution_count": 8,
   "metadata": {
    "id": "VzBT0t6Yq_Dj"
   },
   "outputs": [],
   "source": [
    "def cross_val_score(clf, x_train, y_train, fold_data):\n",
    "    scores = np.zeros(len(fold_data))\n",
    "    for i in range(len(fold_data)):\n",
    "        xtrain = x_train[fold_data[i][0], :]\n",
    "        ytrain = y_train[fold_data[i][0]]\n",
    "        xval = x_train[fold_data[i][1], :]\n",
    "        yval = y_train[fold_data[i][1]]\n",
    "        clf.fit(xtrain, ytrain)\n",
    "        scores[i] = clf.score(xval, yval)\n",
    "    mean_score = np.mean(scores)\n",
    "    return mean_score\n",
    "        \n",
    "def Grid_Search(C_list, gamma_list, x_train, y_train, fold_data):\n",
    "    Grid = np.zeros((len(C_list), len(gamma_list)))\n",
    "    best_accuracy, best_C, best_gamma, best_model = 0, 0, 0, None\n",
    "    for i, gamma in enumerate(gamma_list):\n",
    "        for j, C in enumerate(C_list):\n",
    "            clf = SVC(C=C, gamma=gamma, kernel='rbf')\n",
    "            accuracy = cross_val_score(clf, x_train, y_train, fold_data)\n",
    "            print(f\"C = {C}\\t  gamma = {gamma}\\t  ----->  Accuracy = {accuracy}\")\n",
    "            Grid[j, i] = accuracy\n",
    "            if accuracy > best_accuracy:\n",
    "                best_accuracy = accuracy\n",
    "                best_C = C\n",
    "                best_gamma = gamma\n",
    "                best_model = clf\n",
    "        print(\"---------------------------------------------------------------------------\")\n",
    "    return best_accuracy, best_C, best_gamma, Grid, best_model\n",
    "\n",
    "# best_c, best_gamma = None, None\n",
    "# # TODO HERE\n",
    "# # k-Flod Cross Validation and Grid Search\n",
    "# best_parameters=(best_c, best_gamma)"
   ]
  },
  {
   "cell_type": "code",
   "execution_count": 9,
   "metadata": {
    "id": "mGTyHMFgrAXd"
   },
   "outputs": [
    {
     "name": "stdout",
     "output_type": "stream",
     "text": [
      "C = 0.1\t  gamma = 1e-05\t  ----->  Accuracy = 0.9294285714285714\n",
      "C = 1.0\t  gamma = 1e-05\t  ----->  Accuracy = 0.9667142857142859\n",
      "C = 10.0\t  gamma = 1e-05\t  ----->  Accuracy = 0.9865714285714287\n",
      "C = 1000.0\t  gamma = 1e-05\t  ----->  Accuracy = 0.9917142857142857\n",
      "C = 100000.0\t  gamma = 1e-05\t  ----->  Accuracy = 0.9917142857142857\n",
      "---------------------------------------------------------------------------\n",
      "C = 0.1\t  gamma = 0.0001\t  ----->  Accuracy = 0.9801428571428572\n",
      "C = 1.0\t  gamma = 0.0001\t  ----->  Accuracy = 0.9949999999999999\n",
      "C = 10.0\t  gamma = 0.0001\t  ----->  Accuracy = 0.9949999999999999\n",
      "C = 1000.0\t  gamma = 0.0001\t  ----->  Accuracy = 0.9949999999999999\n",
      "C = 100000.0\t  gamma = 0.0001\t  ----->  Accuracy = 0.9949999999999999\n",
      "---------------------------------------------------------------------------\n",
      "C = 0.1\t  gamma = 0.001\t  ----->  Accuracy = 0.4932857142857143\n",
      "C = 1.0\t  gamma = 0.001\t  ----->  Accuracy = 0.4932857142857143\n",
      "C = 10.0\t  gamma = 0.001\t  ----->  Accuracy = 0.4932857142857143\n",
      "C = 1000.0\t  gamma = 0.001\t  ----->  Accuracy = 0.4932857142857143\n",
      "C = 100000.0\t  gamma = 0.001\t  ----->  Accuracy = 0.4932857142857143\n",
      "---------------------------------------------------------------------------\n",
      "C = 0.1\t  gamma = 0.01\t  ----->  Accuracy = 0.4932857142857143\n",
      "C = 1.0\t  gamma = 0.01\t  ----->  Accuracy = 0.4932857142857143\n",
      "C = 10.0\t  gamma = 0.01\t  ----->  Accuracy = 0.4932857142857143\n",
      "C = 1000.0\t  gamma = 0.01\t  ----->  Accuracy = 0.4932857142857143\n",
      "C = 100000.0\t  gamma = 0.01\t  ----->  Accuracy = 0.4932857142857143\n",
      "---------------------------------------------------------------------------\n",
      "C = 0.1\t  gamma = 0.1\t  ----->  Accuracy = 0.4932857142857143\n",
      "C = 1.0\t  gamma = 0.1\t  ----->  Accuracy = 0.4932857142857143\n",
      "C = 10.0\t  gamma = 0.1\t  ----->  Accuracy = 0.4932857142857143\n",
      "C = 1000.0\t  gamma = 0.1\t  ----->  Accuracy = 0.4932857142857143\n",
      "C = 100000.0\t  gamma = 0.1\t  ----->  Accuracy = 0.4932857142857143\n",
      "---------------------------------------------------------------------------\n",
      "(best_C, best_gamma) is  (1.0, 0.0001)\n"
     ]
    }
   ],
   "source": [
    "kfold_data = cross_validation(x_train, y_train, k=5)\n",
    "C_list = [0.1, 1.0, 1e1, 1e3, 1e5]\n",
    "gamma_list = [0.00001, 0.0001, 0.001, 0.01, 0.1]\n",
    "best_accuracy, best_C, best_gamma, Grid, best_model = Grid_Search(C_list, gamma_list, x_train, y_train, kfold_data)\n",
    "best_parameters = (best_C, best_gamma)\n",
    "print(\"(best_C, best_gamma) is \", best_parameters)"
   ]
  },
  {
   "attachments": {},
   "cell_type": "markdown",
   "metadata": {
    "id": "KbPoOy0lrDPJ"
   },
   "source": [
    "# Q3"
   ]
  },
  {
   "cell_type": "code",
   "execution_count": 10,
   "metadata": {
    "id": "ibuxQOEQrEgJ"
   },
   "outputs": [
    {
     "data": {
      "text/plain": [
       "<Figure size 1080x1080 with 0 Axes>"
      ]
     },
     "metadata": {},
     "output_type": "display_data"
    },
    {
     "data": {
      "image/png": "[encoded data removed]",
      "text/plain": [
       "<Figure size 432x288 with 2 Axes>"
      ]
     },
     "metadata": {
      "needs_background": "light"
     },
     "output_type": "display_data"
    }
   ],
   "source": [
    "# Plot the grid search results of your SVM\n",
    "# TODO HERE\n",
    "\n",
    "def heatmap(data, row_labels, col_labels, ax=None, cbar_kw=None, cbarlabel=\"\", **kwargs):\n",
    "    if ax is None:\n",
    "        ax = plt.gca()\n",
    "    if cbar_kw is None:\n",
    "        cbar_kw = {}\n",
    "    im = ax.imshow(data, **kwargs)                                   # Plot the heatmap\n",
    "    cbar = ax.figure.colorbar(im, ax=ax, **cbar_kw)                  # Create colorbar\n",
    "    cbar.ax.set_ylabel(cbarlabel, rotation=-90, va=\"bottom\")\n",
    "    ax.set_xticks(np.arange(data.shape[1]))\n",
    "    ax.set_yticks(np.arange(data.shape[0]))\n",
    "    ax.set_xticklabels(labels=col_labels)\n",
    "    ax.set_yticklabels(labels=row_labels)\n",
    "    return im, cbar\n",
    "\n",
    "\n",
    "def annotate_heatmap(im, data=None, valfmt=\"{x:.2f}\", **textkw):\n",
    "    if not isinstance(data, (list, np.ndarray)):\n",
    "        data = im.get_array()\n",
    "    kw = dict(horizontalalignment=\"center\", verticalalignment=\"center\")\n",
    "    kw.update(textkw)\n",
    "    if isinstance(valfmt, str):\n",
    "        valfmt = matplotlib.ticker.StrMethodFormatter(valfmt)\n",
    "    texts = []\n",
    "    for i in range(data.shape[0]):\n",
    "        for j in range(data.shape[1]):\n",
    "            kw.update(color=\"w\")\n",
    "            text = im.axes.text(j, i, valfmt(data[i, j], None), **kw)\n",
    "            texts.append(text)\n",
    "    return texts\n",
    "\n",
    "\n",
    "plt.figure(figsize=(15,15))\n",
    "fig, ax = plt.subplots()\n",
    "im, cbar = heatmap(Grid, C_list, gamma_list, ax=ax, cmap=\"RdBu_r\")\n",
    "texts = annotate_heatmap(im, valfmt=\"{x:.4f}\")\n",
    "plt.title(\"Parameter Grid Search\")\n",
    "plt.ylabel(\"C Parameter\")\n",
    "plt.xlabel(\"Gamma Parameter\") \n",
    "fig.tight_layout()\n",
    "plt.show()"
   ]
  },
  {
   "attachments": {},
   "cell_type": "markdown",
   "metadata": {
    "id": "QVA-It-4rM9Q"
   },
   "source": [
    "## Q4"
   ]
  },
  {
   "cell_type": "code",
   "execution_count": 11,
   "metadata": {
    "id": "Zl963HdLrMKg"
   },
   "outputs": [
    {
     "name": "stdout",
     "output_type": "stream",
     "text": [
      "Accuracy score:  0.995\n"
     ]
    }
   ],
   "source": [
    "# Do Not Modify Below\n",
    "\n",
    "best_model = SVC(C=best_parameters[0], gamma=best_parameters[1], kernel='rbf')\n",
    "best_model.fit(x_train, y_train)\n",
    "\n",
    "y_pred = best_model.predict(x_test)\n",
    "\n",
    "print(\"Accuracy score: \", accuracy_score(y_pred, y_test))\n",
    "\n",
    "# If your accuracy here > 0.9 then you will get full credit (20 points)."
   ]
  },
  {
   "cell_type": "code",
   "execution_count": null,
   "metadata": {},
   "outputs": [],
   "source": []
  }
 ],
 "metadata": {
  "colab": {
   "provenance": []
  },
  "kernelspec": {
   "display_name": "Python 3",
   "language": "python",
   "name": "python3"
  },
  "language_info": {
   "codemirror_mode": {
    "name": "ipython",
    "version": 3
   },
   "file_extension": ".py",
   "mimetype": "text/x-python",
   "name": "python",
   "nbconvert_exporter": "python",
   "pygments_lexer": "ipython3",
   "version": "3.11.2"
  }
 },
 "nbformat": 4,
 "nbformat_minor": 1
}
